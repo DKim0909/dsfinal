{
 "cells": [
  {
   "cell_type": "code",
   "execution_count": 14,
   "metadata": {},
   "outputs": [],
   "source": [
    "import pandas as pd\n",
    "import os\n",
    "from scipy import stats\n",
    "from scipy.stats import zscore"
   ]
  },
  {
   "cell_type": "code",
   "execution_count": 2,
   "metadata": {},
   "outputs": [],
   "source": [
    "def load_data(file_path):\n",
    "    return pd.read_csv(file_path)"
   ]
  },
  {
   "cell_type": "code",
   "execution_count": 3,
   "metadata": {},
   "outputs": [],
   "source": [
    "def identify_missing_data(df):\n",
    "    missing_summary = df.isnull().sum()\n",
    "    missing_percentage = (missing_summary / len(df)) * 100\n",
    "    missing_report = pd.DataFrame({\n",
    "        'Missing Count': missing_summary,\n",
    "        'Missing Percentage': missing_percentage\n",
    "    })\n",
    "    print(\"Missing Data Report:\")\n",
    "    print(missing_report)\n",
    "    return missing_report"
   ]
  },
  {
   "cell_type": "code",
   "execution_count": 4,
   "metadata": {},
   "outputs": [],
   "source": [
    "def drop_duplicates(df):\n",
    "    duplicate_count = df.duplicated().sum()\n",
    "    print(f\"Number of duplicates before dropping: {duplicate_count}\")\n",
    "    df = df.drop_duplicates()\n",
    "    return df, duplicate_count"
   ]
  },
  {
   "cell_type": "code",
   "execution_count": 5,
   "metadata": {},
   "outputs": [],
   "source": [
    "def find_duplicate_rows(df):\n",
    "    duplicate_mask = df.duplicated(keep=False)\n",
    "    duplicate_rows = df[duplicate_mask]\n",
    "    return duplicate_rows\n"
   ]
  },
  {
   "cell_type": "code",
   "execution_count": 6,
   "metadata": {},
   "outputs": [],
   "source": [
    "def format_name(df):\n",
    "    df['Name'] = df['Name'].str.title()\n",
    "    return df"
   ]
  },
  {
   "cell_type": "code",
   "execution_count": 7,
   "metadata": {},
   "outputs": [],
   "source": [
    "def format_date(df):\n",
    "    df['Date of Admission'] = pd.to_datetime(df['Date of Admission'], errors='coerce')\n",
    "    df['Discharge Date'] = pd.to_datetime(df['Discharge Date'], errors='coerce')\n",
    "    return df"
   ]
  },
  {
   "cell_type": "code",
   "execution_count": 8,
   "metadata": {},
   "outputs": [],
   "source": [
    "def find_unique_values(df, column_name):\n",
    "    unique_values = df[column_name].unique()\n",
    "    return unique_values"
   ]
  },
  {
   "cell_type": "code",
   "execution_count": 9,
   "metadata": {},
   "outputs": [],
   "source": [
    "def remove_outliers(df, column_name, threshold=3):\n",
    "    df['z_score'] = zscore(df[column_name])\n",
    "    original_row_count = len(df)\n",
    "    df_cleaned = df[df['z_score'].abs() <= threshold]\n",
    "    cleaned_row_count = len(df_cleaned)\n",
    "    rows_affected = original_row_count - cleaned_row_count\n",
    "    df_cleaned = df_cleaned.drop(columns=['z_score'])\n",
    "    print(f\"Number of rows affected by removing outliers: {rows_affected}\")\n",
    "    return df_cleaned"
   ]
  },
  {
   "cell_type": "code",
   "execution_count": 10,
   "metadata": {},
   "outputs": [],
   "source": [
    "def find_admission_dates(df, column_name):\n",
    "    earliest_date = df[column_name].min()\n",
    "    most_recent_date = df[column_name].max()\n",
    "    print(f\"Earliest date: {earliest_date}\")\n",
    "    print(f\"Most recent date: {most_recent_date}\")"
   ]
  },
  {
   "cell_type": "code",
   "execution_count": 11,
   "metadata": {},
   "outputs": [],
   "source": [
    "def save_data(df, file_path):\n",
    "    os.makedirs(os.path.dirname(file_path), exist_ok=True)  # Ensure the directory exists\n",
    "    df.to_csv(file_path, index=False)"
   ]
  },
  {
   "cell_type": "code",
   "execution_count": 19,
   "metadata": {},
   "outputs": [
    {
     "name": "stdout",
     "output_type": "stream",
     "text": [
      "Missing Data Report:\n",
      "                    Missing Count  Missing Percentage\n",
      "Name                            0                 0.0\n",
      "Age                             0                 0.0\n",
      "Gender                          0                 0.0\n",
      "Blood Type                      0                 0.0\n",
      "Medical Condition               0                 0.0\n",
      "Date of Admission               0                 0.0\n",
      "Doctor                          0                 0.0\n",
      "Hospital                        0                 0.0\n",
      "Insurance Provider              0                 0.0\n",
      "Billing Amount                  0                 0.0\n",
      "Room Number                     0                 0.0\n",
      "Admission Type                  0                 0.0\n",
      "Discharge Date                  0                 0.0\n",
      "Medication                      0                 0.0\n",
      "Test Results                    0                 0.0\n",
      "Duplicate rows found:\n",
      "                  Name  Age  Gender Blood Type Medical Condition  \\\n",
      "64        Nancy glOVeR   58    Male         A-      Hypertension   \n",
      "107      DAVid higgInS   49  Female         B-         Arthritis   \n",
      "148     RoBErt hIGGInS   42    Male        AB-            Asthma   \n",
      "154        kevIn HiCKs   66    Male        AB+         Arthritis   \n",
      "159     miCHAeL TayloR   29    Male         O-            Asthma   \n",
      "...                ...  ...     ...        ...               ...   \n",
      "55461   connOR coMPTon   63    Male         A+            Asthma   \n",
      "55462    alYSsA mIlLER   35  Female         A-          Diabetes   \n",
      "55464     ChRIs huGHeS   35  Female        AB-           Obesity   \n",
      "55484  keNNEtH alvarez   80    Male         O+            Cancer   \n",
      "55491    lInDA grIFfin   47  Female         O+           Obesity   \n",
      "\n",
      "      Date of Admission             Doctor                     Hospital  \\\n",
      "64           2020-05-08    Jennifer Larson  Khan, and Rodriguez Fischer   \n",
      "107          2021-03-05  Erin Henderson MD    Evans and Hall Schneider,   \n",
      "148          2021-05-06        Scott Davis      and Ford Lee, Rodriguez   \n",
      "154          2021-06-23       Kelly Murphy                 Robinson Inc   \n",
      "159          2020-02-27    Erica Mccormick               Donaldson-Frey   \n",
      "...                 ...                ...                          ...   \n",
      "55461        2021-08-21     Jonathan Allen   and Willis Mullins, Bowers   \n",
      "55462        2022-06-30         Ryan Price            Shelton-Gallagher   \n",
      "55464        2024-02-28      Katelyn Perry                 Lyons-Hansen   \n",
      "55484        2022-05-05      Andrew Conner                Sons Mayo and   \n",
      "55491        2020-06-21     Danielle Davis     and King Jordan Johnson,   \n",
      "\n",
      "      Insurance Provider  Billing Amount  Room Number Admission Type  \\\n",
      "64              Medicare    19183.168885          378      Emergency   \n",
      "107             Medicare    24948.477824          361      Emergency   \n",
      "148             Medicare    13355.782085          451       Elective   \n",
      "154             Medicare     1897.891727          196       Elective   \n",
      "159             Medicare    41939.119937          453       Elective   \n",
      "...                  ...             ...          ...            ...   \n",
      "55461           Medicare     1936.702824          375      Emergency   \n",
      "55462   UnitedHealthcare     2210.460898          289       Elective   \n",
      "55464         Blue Cross    11889.154513          128      Emergency   \n",
      "55484              Cigna    45653.802310          114       Elective   \n",
      "55491              Aetna    15715.551079          310      Emergency   \n",
      "\n",
      "      Discharge Date   Medication  Test Results  \n",
      "64        2020-06-01      Aspirin      Abnormal  \n",
      "107       2021-03-20   Penicillin      Abnormal  \n",
      "148       2021-05-29    Ibuprofen  Inconclusive  \n",
      "154       2021-07-09    Ibuprofen      Abnormal  \n",
      "159       2020-03-26    Ibuprofen        Normal  \n",
      "...              ...          ...           ...  \n",
      "55461     2021-09-16  Paracetamol        Normal  \n",
      "55462     2022-07-27   Penicillin        Normal  \n",
      "55464     2024-03-14  Paracetamol      Abnormal  \n",
      "55484     2022-05-17      Aspirin        Normal  \n",
      "55491     2020-06-25      Lipitor      Abnormal  \n",
      "\n",
      "[1068 rows x 15 columns]\n",
      "Number of duplicates before dropping: 534\n",
      "Number of duplicates removed: 534\n",
      "Unique values in the 'Gender' column:\n",
      "['Male' 'Female']\n",
      "Unique values in the 'Blood Type' column:\n",
      "['B-' 'A+' 'A-' 'O+' 'AB+' 'AB-' 'B+' 'O-']\n",
      "Unique values in the 'Medical Condition' column:\n",
      "['Cancer' 'Obesity' 'Diabetes' 'Asthma' 'Hypertension' 'Arthritis']\n",
      "Unique values in the 'Insurance Provider' column:\n",
      "['Blue Cross' 'Medicare' 'Aetna' 'UnitedHealthcare' 'Cigna']\n",
      "Unique values in the 'Admission Type' column:\n",
      "['Urgent' 'Emergency' 'Elective']\n",
      "Unique values in the 'Medication' column:\n",
      "['Paracetamol' 'Ibuprofen' 'Aspirin' 'Penicillin' 'Lipitor']\n",
      "Unique values in the 'Test Results' column:\n",
      "['Normal' 'Inconclusive' 'Abnormal']\n",
      "Number of rows affected by removing outliers: 0\n",
      "Earliest date: 2019-05-08 00:00:00\n",
      "Most recent date: 2024-05-07 00:00:00\n",
      "Earliest date: 2019-05-09 00:00:00\n",
      "Most recent date: 2024-06-06 00:00:00\n",
      "Cleaned data saved to /Users/mohammed/Downloads/dsfinal/src/../data/cleaned.csv\n"
     ]
    }
   ],
   "source": [
    "# Set relative paths based on the project structure\n",
    "project_root = os.getcwd()  # Get the directory of this script\n",
    "raw_data_path = os.path.join(project_root, \"../data/raw.csv\")\n",
    "cleaned_data_path = os.path.join(project_root, \"../data/cleaned.csv\")\n",
    "\n",
    "# Load raw data\n",
    "raw_data = load_data(raw_data_path)\n",
    "\n",
    "# Identify missing data\n",
    "missing_report = identify_missing_data(raw_data)\n",
    "\n",
    "# Find duplicate rows\n",
    "duplicate_rows = find_duplicate_rows(raw_data)\n",
    "print(\"Duplicate rows found:\")\n",
    "print(duplicate_rows)\n",
    "\n",
    "# Drop duplicates\n",
    "raw_data, duplicate_count = drop_duplicates(raw_data)\n",
    "print(f\"Number of duplicates removed: {duplicate_count}\")\n",
    "\n",
    "# Format columns\n",
    "raw_data = format_name(raw_data)\n",
    "raw_data = format_date(raw_data)\n",
    "\n",
    "# Find unique values in categorical columns\n",
    "for column in ['Gender', 'Blood Type', 'Medical Condition', 'Insurance Provider', 'Admission Type', 'Medication', 'Test Results']:\n",
    "    unique_values = find_unique_values(raw_data, column)\n",
    "    print(f\"Unique values in the '{column}' column:\")\n",
    "    print(unique_values)\n",
    "\n",
    "# Remove outliers\n",
    "raw_data = remove_outliers(raw_data, 'Billing Amount')\n",
    "\n",
    "# Find admission dates\n",
    "find_admission_dates(raw_data, 'Date of Admission')\n",
    "find_admission_dates(raw_data, 'Discharge Date')\n",
    "\n",
    "# Save cleaned data\n",
    "save_data(raw_data, cleaned_data_path)\n",
    "print(f\"Cleaned data saved to {cleaned_data_path}\")"
   ]
  },
  {
   "cell_type": "code",
   "execution_count": null,
   "metadata": {},
   "outputs": [],
   "source": []
  },
  {
   "cell_type": "code",
   "execution_count": null,
   "metadata": {},
   "outputs": [],
   "source": []
  }
 ],
 "metadata": {
  "kernelspec": {
   "display_name": "Python 3",
   "language": "python",
   "name": "python3"
  },
  "language_info": {
   "codemirror_mode": {
    "name": "ipython",
    "version": 3
   },
   "file_extension": ".py",
   "mimetype": "text/x-python",
   "name": "python",
   "nbconvert_exporter": "python",
   "pygments_lexer": "ipython3",
   "version": "3.9.6"
  }
 },
 "nbformat": 4,
 "nbformat_minor": 2
}
